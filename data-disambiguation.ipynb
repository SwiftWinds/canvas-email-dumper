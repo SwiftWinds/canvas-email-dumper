{
 "cells": [
  {
   "cell_type": "code",
   "execution_count": 115,
   "metadata": {},
   "outputs": [],
   "source": [
    " import json"
   ]
  },
  {
   "cell_type": "code",
   "execution_count": 116,
   "metadata": {},
   "outputs": [],
   "source": [
    "# Opening JSON file\n",
    "f = open('contacts.json')\n",
    "\n",
    "# returns JSON object as\n",
    "# a dictionary\n",
    "data = json.load(f)\n",
    "\n",
    "# Closing file\n",
    "f.close()\n"
   ]
  },
  {
   "cell_type": "code",
   "execution_count": 117,
   "metadata": {},
   "outputs": [],
   "source": [
    "from typing import List"
   ]
  },
  {
   "cell_type": "code",
   "execution_count": 127,
   "metadata": {},
   "outputs": [],
   "source": [
    "class Contact:\n",
    "  def __init__(self, name, is_missing, possible_email_lists):\n",
    "    self.is_empty: bool = False\n",
    "    self.is_ambiguous: bool = False\n",
    "    self._resolved_email: str = \"\"\n",
    "    self._possible_emails: List[str] = []\n",
    "\n",
    "    possible_email_lists = [email_list for email_list in possible_email_lists if len(email_list) > 0]\n",
    "\n",
    "    self.name = name\n",
    "    self._possible_email_lists = possible_email_lists\n",
    "\n",
    "    for email_list in possible_email_lists:\n",
    "      if not email_list:\n",
    "        continue\n",
    "      self._possible_emails.append(email_list[0])\n",
    "    if is_missing:\n",
    "      print(f\"ERROR: {name} is missing email\")\n",
    "      self.is_empty = True\n",
    "      return\n",
    "    if len(possible_email_lists) == 1:\n",
    "      self._resolved_email = possible_email_lists[0][0]\n",
    "    elif len(possible_email_lists) > 1:\n",
    "      try:\n",
    "        self._resolved_email = self.disambiguate(possible_email_lists)\n",
    "      except:\n",
    "        print(f\"ERROR: {name} has ambiguous emails: {possible_email_lists}\")\n",
    "        self.is_ambiguous = True\n",
    "\n",
    "\n",
    "  def disambiguate(self, possible_email_lists):\n",
    "    indices_with_cs_emails = set()\n",
    "    indices_with_engineering_emails = set()\n",
    "\n",
    "    for i, email_list in enumerate(possible_email_lists):\n",
    "      if any(\"@cs.\" in email.lower() for email in email_list):\n",
    "        indices_with_cs_emails.add(i)\n",
    "      if any(\"@engineering.\" in email.lower() for email in email_list):\n",
    "        indices_with_engineering_emails.add(i)\n",
    "\n",
    "    print(f\"{self.name} has {len(indices_with_cs_emails)} cs emails and {len(indices_with_engineering_emails)} engineering emails\")\n",
    "\n",
    "    if len(indices_with_cs_emails) == len(indices_with_engineering_emails) == 0:\n",
    "      raise Exception(\"No CS or Engineering emails found\")\n",
    "    \n",
    "    if (len(indices_with_cs_emails) > 1 or len(indices_with_engineering_emails) > 1):\n",
    "      raise Exception(\"Ambiguous email\")\n",
    "\n",
    "    if (len(indices_with_engineering_emails) == 1):\n",
    "      if (not indices_with_cs_emails.issubset(indices_with_cs_emails)):\n",
    "        raise Exception(\"Ambiguous email\")\n",
    "      return possible_email_lists[indices_with_engineering_emails.pop()][0]\n",
    "    if (len(indices_with_cs_emails) == 1):\n",
    "      if (not indices_with_engineering_emails.issubset(indices_with_engineering_emails)):\n",
    "        raise Exception(\"Ambiguous email\")\n",
    "      return possible_email_lists[indices_with_cs_emails.pop()][0]\n",
    "\n",
    "  @property\n",
    "  def resolved_email(self):\n",
    "    if self.is_empty:\n",
    "      raise Exception(f\"{self.name} has no emails\")\n",
    "    if self.is_ambiguous:\n",
    "      print(f\"WARNING: {self.name} has ambiguous emails: {self._possible_email_lists}\")\n",
    "      return self._possible_emails\n",
    "    return self._resolved_email\n"
   ]
  },
  {
   "cell_type": "code",
   "execution_count": 128,
   "metadata": {},
   "outputs": [],
   "source": [
    "def from_json(contact_json):\n",
    "  return Contact(\n",
    "    contact_json[\"name\"],\n",
    "    contact_json[\"missing\"],\n",
    "    contact_json[\"possibilities\"]\n",
    "  )"
   ]
  },
  {
   "cell_type": "code",
   "execution_count": 129,
   "metadata": {},
   "outputs": [
    {
     "name": "stdout",
     "output_type": "stream",
     "text": [
      "ERROR: Chase Alcorn is missing email\n",
      "Luis Barajas has 1 cs emails and 0 engineering emails\n",
      "ERROR: Mac Beggs is missing email\n",
      "ERROR: Sam Boersma is missing email\n",
      "ERROR: Jessica Cai is missing email\n",
      "Brian Chang has 1 cs emails and 0 engineering emails\n",
      "Timothy Chang has 1 cs emails and 0 engineering emails\n",
      "Jiakang Chen has 0 cs emails and 0 engineering emails\n",
      "ERROR: Jiakang Chen has ambiguous emails: [['jiakang@ucsb.edu', 'jiakang@umail.ucsb.edu'], ['jchen758@ucsb.edu', 'jchen758@umail.ucsb.edu']]\n",
      "ERROR: Alex Cho is missing email\n",
      "ERROR: Dylan Chung is missing email\n",
      "ERROR: Ishan Gondara is missing email\n",
      "ERROR: Eric Han is missing email\n",
      "ERROR: Kevin Heo is missing email\n",
      "Brian Ho has 1 cs emails and 0 engineering emails\n",
      "Allison Huang has 1 cs emails and 0 engineering emails\n",
      "ERROR: Shawn Jiang is missing email\n",
      "Julie Ku has 0 cs emails and 0 engineering emails\n",
      "ERROR: Julie Ku has ambiguous emails: [['julieku@ucsb.edu', 'julieku@umail.ucsb.edu'], ['as-jku@ucsb.edu', 'jku@as.ucsb.edu']]\n",
      "ERROR: Kevin Lai is missing email\n",
      "Matthew Lee has 0 cs emails and 0 engineering emails\n",
      "ERROR: Matthew Lee has ambiguous emails: [['matthewslee@ucsb.edu', 'matthewslee@umail.ucsb.edu'], ['matthew_lee@ucsb.edu', 'matthew_lee@umail.ucsb.edu']]\n",
      "Ryan Lewis has 0 cs emails and 0 engineering emails\n",
      "ERROR: Ryan Lewis has ambiguous emails: [['ryan_lewis@ucsb.edu', 'ryan_lewis@umail.ucsb.edu'], ['rlewis@ucsb.edu', 'rlewis@umail.ucsb.edu']]\n",
      "William Li has 1 cs emails and 0 engineering emails\n",
      "ERROR: Sylvia Lin is missing email\n",
      "ERROR: Ray Ling is missing email\n",
      "Jack Liu has 1 cs emails and 2 engineering emails\n",
      "ERROR: Jack Liu has ambiguous emails: [['jack_liu@ucsb.edu', 'jack_liu@cs.ucsb.edu', 'jack_liu@umail.ucsb.edu'], ['jackliu@ucsb.edu', 'jackliu@engineering.ucsb.edu', 'jackliu@umail.ucsb.edu'], ['shangboliu@ucsb.edu', 'shangboliu@umail.ucsb.edu'], ['zijieliu@ucsb.edu', 'zijieliu@engineering.ucsb.edu', 'zijieliu@umail.ucsb.edu']]\n",
      "ERROR: Amy Lyu is missing email\n",
      "ERROR: Patrick Moon is missing email\n",
      "Andrew Nguyen has 1 cs emails and 0 engineering emails\n",
      "ERROR: Zack Reardon is missing email\n",
      "ERROR: Rowan Tran is missing email\n",
      "Regan Wheatley has 0 cs emails and 0 engineering emails\n",
      "ERROR: Regan Wheatley has ambiguous emails: [['as-rwheatley@ucsb.edu', 'rwheatley@as.ucsb.edu'], ['rwheatley@ucsb.edu', 'rwheatley@umail.ucsb.edu']]\n",
      "Melanie Wu has 0 cs emails and 0 engineering emails\n",
      "ERROR: Melanie Wu has ambiguous emails: [['melanie_wu@ucsb.edu', 'melanie_wu@umail.ucsb.edu'], ['melaniewu@ucsb.edu', 'melaniewu@umail.ucsb.edu']]\n",
      "ERROR: Yizhou Wu is missing email\n",
      "Hao Wu has 1 cs emails and 0 engineering emails\n",
      "Grace Wu has 0 cs emails and 0 engineering emails\n",
      "ERROR: Grace Wu has ambiguous emails: [['gracewu@ucsb.edu', 'gracewu@umail.ucsb.edu'], ['gracecwu@ucsb.edu']]\n",
      "Yuhang Wu has 0 cs emails and 0 engineering emails\n",
      "ERROR: Yuhang Wu has ambiguous emails: [['yuhangwu@ucsb.edu', 'yuhangwu@umail.ucsb.edu'], ['yuhang789@ucsb.edu', 'yuhang789@umail.ucsb.edu']]\n",
      "ERROR: Shawn Xiao is missing email\n",
      "ERROR: Carl Xiong is missing email\n",
      "Yifan Xu has 0 cs emails and 0 engineering emails\n",
      "ERROR: Yifan Xu has ambiguous emails: [['yifan_xu@ucsb.edu', 'yifan_xu@umail.ucsb.edu'], ['yxu182@ucsb.edu', 'yxu182@umail.ucsb.edu']]\n",
      "ERROR: Rex Xu is missing email\n",
      "ERROR: Mena Yang is missing email\n",
      "ERROR: Belle Zhang is missing email\n",
      "Kevin Zhang has 1 cs emails and 2 engineering emails\n",
      "ERROR: Kevin Zhang has ambiguous emails: [['kevinzhang@ucsb.edu', 'kevinzhang@engineering.ucsb.edu', 'kevinzhang@umail.ucsb.edu'], ['kevinzhang421@ucsb.edu', 'kevinzhang421@cs.ucsb.edu', 'kevinzhang421@umail.ucsb.edu'], ['kevinvzhang@ucsb.edu', 'kevinvzhang@umail.ucsb.edu'], ['kevin777@ucsb.edu', 'kevin777@umail.ucsb.edu'], ['kevin_zhang@ucsb.edu', 'kevin_zhang@umail.ucsb.edu'], ['kzhang751@ucsb.edu', 'kzhang751@umail.ucsb.edu'], ['kqzhang@ucsb.edu', 'kqzhang@engineering.ucsb.edu', 'kqzhang@umail.ucsb.edu']]\n",
      "Chris Zhang has 1 cs emails and 0 engineering emails\n",
      "ERROR: Belle Zhang is missing email\n",
      "Han Zhang has 0 cs emails and 0 engineering emails\n",
      "ERROR: Han Zhang has ambiguous emails: [['han_zhang@ucsb.edu', 'han_zhang@umail.ucsb.edu'], ['han_zhang303@ucsb.edu', 'han_zhang303@umail.ucsb.edu']]\n",
      "Ke Zhou has 0 cs emails and 0 engineering emails\n",
      "ERROR: Ke Zhou has ambiguous emails: [['kezhou@ucsb.edu', 'kezhou@umail.ucsb.edu'], ['kzhou@ucsb.edu', 'kzhou@umail.ucsb.edu']]\n",
      "Eric Zhu has 0 cs emails and 1 engineering emails\n"
     ]
    }
   ],
   "source": [
    "contacts = []\n",
    "for contact in data:\n",
    "  contacts.append(from_json(contact))"
   ]
  },
  {
   "cell_type": "code",
   "execution_count": 130,
   "metadata": {},
   "outputs": [
    {
     "name": "stdout",
     "output_type": "stream",
     "text": [
      "ERROR: Chase Alcorn has no emails\n",
      "ERROR: Mac Beggs has no emails\n",
      "ERROR: Sam Boersma has no emails\n",
      "ERROR: Jessica Cai has no emails\n",
      "WARNING: Jiakang Chen has ambiguous emails: [['jiakang@ucsb.edu', 'jiakang@umail.ucsb.edu'], ['jchen758@ucsb.edu', 'jchen758@umail.ucsb.edu']]\n",
      "ERROR: Alex Cho has no emails\n",
      "ERROR: Dylan Chung has no emails\n",
      "ERROR: Ishan Gondara has no emails\n",
      "ERROR: Eric Han has no emails\n",
      "ERROR: Kevin Heo has no emails\n",
      "ERROR: Shawn Jiang has no emails\n",
      "WARNING: Julie Ku has ambiguous emails: [['julieku@ucsb.edu', 'julieku@umail.ucsb.edu'], ['as-jku@ucsb.edu', 'jku@as.ucsb.edu']]\n",
      "ERROR: Kevin Lai has no emails\n",
      "WARNING: Matthew Lee has ambiguous emails: [['matthewslee@ucsb.edu', 'matthewslee@umail.ucsb.edu'], ['matthew_lee@ucsb.edu', 'matthew_lee@umail.ucsb.edu']]\n",
      "WARNING: Ryan Lewis has ambiguous emails: [['ryan_lewis@ucsb.edu', 'ryan_lewis@umail.ucsb.edu'], ['rlewis@ucsb.edu', 'rlewis@umail.ucsb.edu']]\n",
      "ERROR: Sylvia Lin has no emails\n",
      "ERROR: Ray Ling has no emails\n",
      "WARNING: Jack Liu has ambiguous emails: [['jack_liu@ucsb.edu', 'jack_liu@cs.ucsb.edu', 'jack_liu@umail.ucsb.edu'], ['jackliu@ucsb.edu', 'jackliu@engineering.ucsb.edu', 'jackliu@umail.ucsb.edu'], ['shangboliu@ucsb.edu', 'shangboliu@umail.ucsb.edu'], ['zijieliu@ucsb.edu', 'zijieliu@engineering.ucsb.edu', 'zijieliu@umail.ucsb.edu']]\n",
      "ERROR: Amy Lyu has no emails\n",
      "ERROR: Patrick Moon has no emails\n",
      "ERROR: Zack Reardon has no emails\n",
      "ERROR: Rowan Tran has no emails\n",
      "WARNING: Regan Wheatley has ambiguous emails: [['as-rwheatley@ucsb.edu', 'rwheatley@as.ucsb.edu'], ['rwheatley@ucsb.edu', 'rwheatley@umail.ucsb.edu']]\n",
      "WARNING: Melanie Wu has ambiguous emails: [['melanie_wu@ucsb.edu', 'melanie_wu@umail.ucsb.edu'], ['melaniewu@ucsb.edu', 'melaniewu@umail.ucsb.edu']]\n",
      "ERROR: Yizhou Wu has no emails\n",
      "WARNING: Grace Wu has ambiguous emails: [['gracewu@ucsb.edu', 'gracewu@umail.ucsb.edu'], ['gracecwu@ucsb.edu']]\n",
      "WARNING: Yuhang Wu has ambiguous emails: [['yuhangwu@ucsb.edu', 'yuhangwu@umail.ucsb.edu'], ['yuhang789@ucsb.edu', 'yuhang789@umail.ucsb.edu']]\n",
      "ERROR: Shawn Xiao has no emails\n",
      "ERROR: Carl Xiong has no emails\n",
      "WARNING: Yifan Xu has ambiguous emails: [['yifan_xu@ucsb.edu', 'yifan_xu@umail.ucsb.edu'], ['yxu182@ucsb.edu', 'yxu182@umail.ucsb.edu']]\n",
      "ERROR: Rex Xu has no emails\n",
      "ERROR: Mena Yang has no emails\n",
      "ERROR: Belle Zhang has no emails\n",
      "WARNING: Kevin Zhang has ambiguous emails: [['kevinzhang@ucsb.edu', 'kevinzhang@engineering.ucsb.edu', 'kevinzhang@umail.ucsb.edu'], ['kevinzhang421@ucsb.edu', 'kevinzhang421@cs.ucsb.edu', 'kevinzhang421@umail.ucsb.edu'], ['kevinvzhang@ucsb.edu', 'kevinvzhang@umail.ucsb.edu'], ['kevin777@ucsb.edu', 'kevin777@umail.ucsb.edu'], ['kevin_zhang@ucsb.edu', 'kevin_zhang@umail.ucsb.edu'], ['kzhang751@ucsb.edu', 'kzhang751@umail.ucsb.edu'], ['kqzhang@ucsb.edu', 'kqzhang@engineering.ucsb.edu', 'kqzhang@umail.ucsb.edu']]\n",
      "ERROR: Belle Zhang has no emails\n",
      "WARNING: Han Zhang has ambiguous emails: [['han_zhang@ucsb.edu', 'han_zhang@umail.ucsb.edu'], ['han_zhang303@ucsb.edu', 'han_zhang303@umail.ucsb.edu']]\n",
      "WARNING: Ke Zhou has ambiguous emails: [['kezhou@ucsb.edu', 'kezhou@umail.ucsb.edu'], ['kzhou@ucsb.edu', 'kzhou@umail.ucsb.edu']]\n"
     ]
    }
   ],
   "source": [
    "emails = []\n",
    "for contact in contacts:\n",
    "  try:\n",
    "    emails.append(contact.resolved_email)\n",
    "  except Exception as e:\n",
    "    print(\"ERROR:\", e)\n"
   ]
  },
  {
   "cell_type": "code",
   "execution_count": 131,
   "metadata": {},
   "outputs": [],
   "source": [
    "def flatten(S):\n",
    "    if S == []:\n",
    "        return S\n",
    "    if isinstance(S[0], list):\n",
    "        return flatten(S[0]) + flatten(S[1:])\n",
    "    return S[:1] + flatten(S[1:])\n"
   ]
  },
  {
   "cell_type": "code",
   "execution_count": 132,
   "metadata": {},
   "outputs": [
    {
     "data": {
      "text/plain": [
       "195"
      ]
     },
     "execution_count": 132,
     "metadata": {},
     "output_type": "execute_result"
    }
   ],
   "source": [
    "len(emails)"
   ]
  },
  {
   "cell_type": "code",
   "execution_count": 133,
   "metadata": {},
   "outputs": [
    {
     "data": {
      "text/plain": [
       "'rithwik@ucsb.edu;safiyazalavi@ucsb.edu;arianalavi@ucsb.edu;kya@ucsb.edu;nirmit@ucsb.edu;m_atkinson@ucsb.edu;rohil@ucsb.edu;luisbarajas@ucsb.edu;corinnabasch@ucsb.edu;ebeltran@ucsb.edu;mpbonham@ucsb.edu;tufeicai@ucsb.edu;jcalpe@ucsb.edu;alexjcano@ucsb.edu;jcao@ucsb.edu;siyucao@ucsb.edu;acarbone@ucsb.edu;dylancervantes@ucsb.edu;justin_chang@ucsb.edu;bpc@ucsb.edu;timothychang@ucsb.edu;marvinchang@ucsb.edu;christopherchang@ucsb.edu;zhimei_chen@ucsb.edu;jiakang@ucsb.edu;jchen758@ucsb.edu;jiayuechen@ucsb.edu;melodychen@ucsb.edu;ychen861@ucsb.edu;kaiechen@ucsb.edu;sophiacheng@ucsb.edu;arik@ucsb.edu;irenecho@ucsb.edu;stevenchoi@ucsb.edu;dchou@umail.ucsb.edu;chiaanchou@ucsb.edu;yoonji@ucsb.edu;jaredconnolly@ucsb.edu;cbconrad@ucsb.edu;jcooley@umail.ucsb.edu;idelarosby@ucsb.edu;vdharasker@ucsb.edu;chloedinh-luong@ucsb.edu;jdysart@ucsb.edu;taraellingson@ucsb.edu;jenriquez@ucsb.edu;qiyuanfeng@ucsb.edu;jaredfitton@ucsb.edu;lawrencegao@ucsb.edu;longgao@ucsb.edu;wentao_gao@ucsb.edu;christiangarduno@ucsb.edu;archit@ucsb.edu;giovanigutierrez@ucsb.edu;mayaha@ucsb.edu;ryanhaley@ucsb.edu;quinnhamilton@ucsb.edu;xinyihan@ucsb.edu;weihe@ucsb.edu;chengxuan@ucsb.edu;khe@ucsb.edu;emmaherrerosdetejada@ucsb.edu;mvhill@ucsb.edu;ethanbhill@ucsb.edu;bcho655@ucsb.edu;ihoffman@ucsb.edu;michaelhong@ucsb.edu;rui6@ucsb.edu;chenyuhua@ucsb.edu;allisonhuang@ucsb.edu;jiashuhuang@ucsb.edu;ahuanghe@ucsb.edu;ashleyhurdle@ucsb.edu;ranji@ucsb.edu;shuaiming@ucsb.edu;karpinska@ucsb.edu;rkavuluru@ucsb.edu;yejinkim@ucsb.edu;hyomin@ucsb.edu;allisonkim@ucsb.edu;vkomarov@ucsb.edu;cjkracha@ucsb.edu;julieku@ucsb.edu;as-jku@ucsb.edu;mkuhn@ucsb.edu;mkulshresta@ucsb.edu;kwon327@ucsb.edu;justinlai@ucsb.edu;kristallam@ucsb.edu;edwardlam@ucsb.edu;kai_lan@ucsb.edu;shaohui_lang@ucsb.edu;junhwanlee@ucsb.edu;matthewslee@ucsb.edu;matthew_lee@ucsb.edu;anpeng@ucsb.edu;ryan_lewis@ucsb.edu;rlewis@ucsb.edu;wli04@ucsb.edu;yuanningli@ucsb.edu;jinzheng@ucsb.edu;quan_li@ucsb.edu;junyuan_li@ucsb.edu;yaxinli@ucsb.edu;yiboliang@ucsb.edu;sarahliang@ucsb.edu;yuyueliang@ucsb.edu;tianyi_lin@ucsb.edu;leslieliu@ucsb.edu;shengjian@ucsb.edu;jack_liu@ucsb.edu;jackliu@ucsb.edu;shangboliu@ucsb.edu;zijieliu@ucsb.edu;yinzhou@ucsb.edu;zhongnanluo@ucsb.edu;andrewmarabante@ucsb.edu;esmarkova@ucsb.edu;zmarks@ucsb.edu;nmathew@ucsb.edu;evemccreary@ucsb.edu;samuelmetta@ucsb.edu;amiguel@ucsb.edu;zmiller@ucsb.edu;haroldmo@ucsb.edu;alecmorrison@ucsb.edu;mmunozvaltierra@ucsb.edu;anagesh@ucsb.edu;nga@ucsb.edu;ahn00@ucsb.edu;jesse_nunez@ucsb.edu;patrickomens@ucsb.edu;osbakken@ucsb.edu;aparvizi@ucsb.edu;tai-jui@ucsb.edu;nimisharprasad@ucsb.edu;nrajagopal@ucsb.edu;randle@ucsb.edu;kaylin@ucsb.edu;josiahnross@ucsb.edu;coltonrowe@ucsb.edu;allenshim@ucsb.edu;ryansimone@ucsb.edu;arjunsingh@ucsb.edu;mayasinha@ucsb.edu;bisman@ucsb.edu;haopeng_song@ucsb.edu;jstenger@ucsb.edu;cindysu@ucsb.edu;adamtatarkhanov@ucsb.edu;ruitian@ucsb.edu;uyentran@ucsb.edu;khtran@ucsb.edu;andrew_tran@ucsb.edu;ptrujillo@ucsb.edu;fluellenarman@ucsb.edu;jakobvanderaa@ucsb.edu;glguerrero@ucsb.edu;tylervu@ucsb.edu;mathewwang@ucsb.edu;kpwang@ucsb.edu;beiniwang@ucsb.edu;jianghuawang@ucsb.edu;lucaswatkins@ucsb.edu;h_wen@ucsb.edu;kweng@ucsb.edu;daviswestover@ucsb.edu;as-rwheatley@ucsb.edu;rwheatley@ucsb.edu;ellenwhitehead@ucsb.edu;mwillis@ucsb.edu;klw@ucsb.edu;melanie_wu@ucsb.edu;melaniewu@ucsb.edu;hao_wu@ucsb.edu;gracewu@ucsb.edu;gracecwu@ucsb.edu;yike509@ucsb.edu;yuhangwu@ucsb.edu;yuhang789@ucsb.edu;axi@ucsb.edu;pengweixia@ucsb.edu;yipengxu@ucsb.edu;yifan_xu@ucsb.edu;yxu182@ucsb.edu;jingyanxu@ucsb.edu;zhennixu@ucsb.edu;yusongyan@ucsb.edu;luckyye@ucsb.edu;lukeyoffe@ucsb.edu;tongxi@ucsb.edu;christyyu@ucsb.edu;rileyjzamora@ucsb.edu;colbyzeljak@ucsb.edu;shujie_zhang@ucsb.edu;kevinzhang@ucsb.edu;kevinzhang421@ucsb.edu;kevinvzhang@ucsb.edu;kevin777@ucsb.edu;kevin_zhang@ucsb.edu;kzhang751@ucsb.edu;kqzhang@ucsb.edu;zhizhouzhang@ucsb.edu;han_zhang@ucsb.edu;han_zhang303@ucsb.edu;ailinzhao@ucsb.edu;yijiazhao@ucsb.edu;yixin@ucsb.edu;dingfan@ucsb.edu;xiaoyazhou@ucsb.edu;kezhou@ucsb.edu;kzhou@ucsb.edu;ericzhu@ucsb.edu;qichenzhu@ucsb.edu;b_zhu@ucsb.edu'"
      ]
     },
     "execution_count": 133,
     "metadata": {},
     "output_type": "execute_result"
    }
   ],
   "source": [
    "';'.join(flatten(emails))"
   ]
  },
  {
   "cell_type": "code",
   "execution_count": 134,
   "metadata": {},
   "outputs": [],
   "source": [
    "ambiguous_contacts = [contact for contact in contacts if contact.is_ambiguous]"
   ]
  },
  {
   "cell_type": "code",
   "execution_count": 136,
   "metadata": {},
   "outputs": [
    {
     "name": "stdout",
     "output_type": "stream",
     "text": [
      "Julie Ku has interesting emails: [['julieku@ucsb.edu', 'julieku@umail.ucsb.edu'], ['as-jku@ucsb.edu', 'jku@as.ucsb.edu']]\n",
      "Regan Wheatley has interesting emails: [['as-rwheatley@ucsb.edu', 'rwheatley@as.ucsb.edu'], ['rwheatley@ucsb.edu', 'rwheatley@umail.ucsb.edu']]\n"
     ]
    }
   ],
   "source": [
    "boring_domains = [\"@umail.ucsb.edu\", \"@ucsb.edu\", \"@cs.ucsb.edu\", \"@engineering.ucsb.edu\"]\n",
    "for contact in ambiguous_contacts:\n",
    "  if not all(any(domain in email for domain in boring_domains) for email in flatten(contact._possible_email_lists)):\n",
    "    print(f\"{contact.name} has interesting emails: {contact._possible_email_lists}\")"
   ]
  }
 ],
 "metadata": {
  "interpreter": {
   "hash": "bf51ea93bfc4939e343bc36b40103aae448d24a62fba372cd4dfe50b65efb905"
  },
  "kernelspec": {
   "display_name": "Python 3.10.2 64-bit ('3.10.2')",
   "language": "python",
   "name": "python3"
  },
  "language_info": {
   "codemirror_mode": {
    "name": "ipython",
    "version": 3
   },
   "file_extension": ".py",
   "mimetype": "text/x-python",
   "name": "python",
   "nbconvert_exporter": "python",
   "pygments_lexer": "ipython3",
   "version": "3.10.2"
  },
  "orig_nbformat": 4
 },
 "nbformat": 4,
 "nbformat_minor": 2
}
