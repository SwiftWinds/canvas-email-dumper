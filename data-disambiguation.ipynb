{
 "cells": [
  {
   "cell_type": "code",
   "execution_count": null,
   "metadata": {},
   "outputs": [],
   "source": [
    "import json"
   ]
  },
  {
   "cell_type": "code",
   "execution_count": null,
   "metadata": {},
   "outputs": [],
   "source": [
    "# Opening JSON file\n",
    "f = open('contacts.json')\n",
    "\n",
    "# returns JSON object as\n",
    "# a dictionary\n",
    "data = json.load(f)\n",
    "\n",
    "# Closing file\n",
    "f.close()\n"
   ]
  },
  {
   "cell_type": "code",
   "execution_count": null,
   "metadata": {},
   "outputs": [],
   "source": [
    "from typing import List"
   ]
  },
  {
   "cell_type": "code",
   "execution_count": null,
   "metadata": {},
   "outputs": [],
   "source": [
    "class Contact:\n",
    "  def __init__(self, name, is_missing, possible_email_lists):\n",
    "    self.is_empty: bool = False\n",
    "    self.is_ambiguous: bool = False\n",
    "    self._resolved_email: str = \"\"\n",
    "    self._possible_emails: List[str] = []\n",
    "\n",
    "    possible_email_lists = [email_list for email_list in possible_email_lists if len(email_list) > 0]\n",
    "\n",
    "    self.name = name\n",
    "    self._possible_email_lists = possible_email_lists\n",
    "\n",
    "    for email_list in possible_email_lists:\n",
    "      if not email_list:\n",
    "        continue\n",
    "      self._possible_emails.append(email_list[0])\n",
    "    if is_missing:\n",
    "      print(f\"ERROR: {name} is missing email\")\n",
    "      self.is_empty = True\n",
    "      return\n",
    "    if len(possible_email_lists) == 1:\n",
    "      self._resolved_email = possible_email_lists[0][0]\n",
    "    elif len(possible_email_lists) > 1:\n",
    "      try:\n",
    "        self._resolved_email = self.disambiguate(possible_email_lists)\n",
    "      except:\n",
    "        print(f\"ERROR: {name} has ambiguous emails: {possible_email_lists}\")\n",
    "        self.is_ambiguous = True\n",
    "\n",
    "\n",
    "  def disambiguate(self, possible_email_lists):\n",
    "    indices_with_cs_emails = set()\n",
    "    indices_with_engineering_emails = set()\n",
    "\n",
    "    for i, email_list in enumerate(possible_email_lists):\n",
    "      if any(\"@cs.\" in email.lower() for email in email_list):\n",
    "        indices_with_cs_emails.add(i)\n",
    "      if any(\"@engineering.\" in email.lower() for email in email_list):\n",
    "        indices_with_engineering_emails.add(i)\n",
    "\n",
    "    print(f\"{self.name} has {len(indices_with_cs_emails)} cs emails and {len(indices_with_engineering_emails)} engineering emails\")\n",
    "\n",
    "    if len(indices_with_cs_emails) == len(indices_with_engineering_emails) == 0:\n",
    "      raise Exception(\"No CS or Engineering emails found\")\n",
    "    \n",
    "    if (len(indices_with_cs_emails) > 1 or len(indices_with_engineering_emails) > 1):\n",
    "      raise Exception(\"Ambiguous email\")\n",
    "\n",
    "    if (len(indices_with_engineering_emails) == 1):\n",
    "      if (not indices_with_cs_emails.issubset(indices_with_cs_emails)):\n",
    "        raise Exception(\"Ambiguous email\")\n",
    "      return possible_email_lists[indices_with_engineering_emails.pop()][0]\n",
    "    if (len(indices_with_cs_emails) == 1):\n",
    "      if (not indices_with_engineering_emails.issubset(indices_with_engineering_emails)):\n",
    "        raise Exception(\"Ambiguous email\")\n",
    "      return possible_email_lists[indices_with_cs_emails.pop()][0]\n",
    "\n",
    "  @property\n",
    "  def resolved_email(self):\n",
    "    if self.is_empty:\n",
    "      raise Exception(f\"{self.name} has no emails\")\n",
    "    if self.is_ambiguous:\n",
    "      print(f\"WARNING: {self.name} has ambiguous emails: {self._possible_email_lists}\")\n",
    "      return self._possible_emails\n",
    "    return self._resolved_email\n"
   ]
  },
  {
   "cell_type": "code",
   "execution_count": null,
   "metadata": {},
   "outputs": [],
   "source": [
    "def from_json(contact_json):\n",
    "  return Contact(\n",
    "    contact_json[\"name\"],\n",
    "    contact_json[\"missing\"],\n",
    "    contact_json[\"possibilities\"]\n",
    "  )"
   ]
  },
  {
   "cell_type": "code",
   "execution_count": null,
   "metadata": {},
   "outputs": [],
   "source": [
    "contacts = []\n",
    "for contact in data:\n",
    "  contacts.append(from_json(contact))"
   ]
  },
  {
   "cell_type": "code",
   "execution_count": null,
   "metadata": {},
   "outputs": [],
   "source": [
    "emails = []\n",
    "for contact in contacts:\n",
    "  try:\n",
    "    emails.append(contact.resolved_email)\n",
    "  except Exception as e:\n",
    "    print(\"ERROR:\", e)\n"
   ]
  },
  {
   "cell_type": "code",
   "execution_count": null,
   "metadata": {},
   "outputs": [],
   "source": [
    "def flatten(S):\n",
    "    if S == []:\n",
    "        return S\n",
    "    if isinstance(S[0], list):\n",
    "        return flatten(S[0]) + flatten(S[1:])\n",
    "    return S[:1] + flatten(S[1:])\n"
   ]
  },
  {
   "cell_type": "code",
   "execution_count": null,
   "metadata": {},
   "outputs": [],
   "source": [
    "len(emails)"
   ]
  },
  {
   "cell_type": "code",
   "execution_count": null,
   "metadata": {},
   "outputs": [],
   "source": [
    "emails"
   ]
  },
  {
   "cell_type": "code",
   "execution_count": null,
   "metadata": {},
   "outputs": [],
   "source": [
    "';'.join(flatten(emails))"
   ]
  },
  {
   "cell_type": "code",
   "execution_count": null,
   "metadata": {},
   "outputs": [],
   "source": [
    "ambiguous_contacts = [contact for contact in contacts if contact.is_ambiguous]"
   ]
  },
  {
   "cell_type": "code",
   "execution_count": null,
   "metadata": {},
   "outputs": [],
   "source": [
    "boring_domains = [\"@umail.ucsb.edu\", \"@ucsb.edu\", \"@cs.ucsb.edu\", \"@engineering.ucsb.edu\"]\n",
    "for contact in ambiguous_contacts:\n",
    "  if not all(any(domain in email for domain in boring_domains) for email in flatten(contact._possible_email_lists)):\n",
    "    print(f\"{contact.name} has interesting emails: {contact._possible_email_lists}\")"
   ]
  }
 ],
 "metadata": {
  "interpreter": {
   "hash": "bf51ea93bfc4939e343bc36b40103aae448d24a62fba372cd4dfe50b65efb905"
  },
  "kernelspec": {
   "display_name": "Python 3.10.2 64-bit ('3.10.2')",
   "language": "python",
   "name": "python3"
  },
  "language_info": {
   "codemirror_mode": {
    "name": "ipython",
    "version": 3
   },
   "file_extension": ".py",
   "mimetype": "text/x-python",
   "name": "python",
   "nbconvert_exporter": "python",
   "pygments_lexer": "ipython3",
   "version": "3.10.10"
  },
  "orig_nbformat": 4
 },
 "nbformat": 4,
 "nbformat_minor": 2
}
